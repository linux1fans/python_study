{
  "metadata": {
    "language_info": {
      "codemirror_mode": {
        "name": "python",
        "version": 3
      },
      "file_extension": ".py",
      "mimetype": "text/x-python",
      "name": "python",
      "nbconvert_exporter": "python",
      "pygments_lexer": "ipython3",
      "version": "3.8"
    },
    "kernelspec": {
      "name": "python",
      "display_name": "Python (Pyodide)",
      "language": "python"
    }
  },
  "nbformat_minor": 4,
  "nbformat": 4,
  "cells": [
    {
      "cell_type": "code",
      "source": "a = ']]][]]]][[[[[[]]]]'\nclass Stack(object):\n    def __init__(self):\n        self._list = []\n    #栈\n    def push(self,item):\n        # 添加新元素item到栈顶\n        self._list.append(item)\n    def pop(self):\n        # 弹出栈顶元素\n        return self._list.pop()\n    def peek(self):\n        # 返回栈顶元素\n        if self._list:\n            return self._list[-1]\n        else:\n            return None\n    def is_empty(self):\n        # 判断栈是否为空\n        if len(self._list) == 0:\n            return True\n        else:\n            return False\n    def size(self):\n        # 返回栈的元素个数\n        return len(self._list)\ndef brace_match(a):\n    s = Stack()\n    count = 0\n    for i in a:\n        \n        if i == '[':\n            s.push(i)\n        else:\n            print(i)\n            if not s.is_empty()  and s.pop():\n                count+=1\n            else:\n                continue\n    print(count)\n\n\nbrace_match(a)",
      "metadata": {
        "trusted": true
      },
      "execution_count": 5,
      "outputs": [
        {
          "name": "stdout",
          "text": "]\n]\n]\n]\n]\n]\n]\n]\n]\n]\n]\n5\n",
          "output_type": "stream"
        }
      ]
    },
    {
      "cell_type": "code",
      "source": "",
      "metadata": {},
      "execution_count": null,
      "outputs": []
    }
  ]
}