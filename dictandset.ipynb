{
  "metadata": {
    "language_info": {
      "codemirror_mode": {
        "name": "python",
        "version": 3
      },
      "file_extension": ".py",
      "mimetype": "text/x-python",
      "name": "python",
      "nbconvert_exporter": "python",
      "pygments_lexer": "ipython3",
      "version": "3.8"
    },
    "kernelspec": {
      "name": "python",
      "display_name": "Python (Pyodide)",
      "language": "python"
    }
  },
  "nbformat_minor": 4,
  "nbformat": 4,
  "cells": [
    {
      "cell_type": "code",
      "source": "a = ']]][]]]][[[[[[]]]]'\nclass Stack(object):\n    def __init__(self):\n        self._list = []\n    #栈\n    def push(self,item):\n        # 添加新元素item到栈顶\n        self._list.append(item)\n    def pop(self):\n        # 弹出栈顶元素\n        return self._list.pop()\n    def peek(self):\n        # 返回栈顶元素\n        if self._list:\n            return self._list[-1]\n        else:\n            return None\n    def is_empty(self):\n        # 判断栈是否为空\n        if len(self._list) == 0:\n            return True\n        else:\n            return False\n    def size(self):\n        # 返回栈的元素个数\n        return len(self._list)\ndef brace_match(a):\n    s = Stack()\n    count = 0\n    for i in a:\n        \n        if i == '[':\n            s.push(i)\n        else:\n            print(i)\n            if not s.is_empty()  and s.pop():\n                count+=1\n            else:\n                continue\n    print(count)\n\n\nbrace_match(a)",
      "metadata": {
        "trusted": true
      },
      "execution_count": 5,
      "outputs": [
        {
          "name": "stdout",
          "text": "]\n]\n]\n]\n]\n]\n]\n]\n]\n]\n]\n5\n",
          "output_type": "stream"
        }
      ]
    },
    {
      "cell_type": "code",
      "source": "l=[1,2,3]\nl[-1]\n\nl=[]\nl[-1]",
      "metadata": {
        "trusted": true
      },
      "execution_count": 10,
      "outputs": [
        {
          "ename": "<class 'IndexError'>",
          "evalue": "list index out of range",
          "traceback": [
            "\u001b[0;31m---------------------------------------------------------------------------\u001b[0m",
            "\u001b[0;31mIndexError\u001b[0m                                Traceback (most recent call last)",
            "Cell \u001b[0;32mIn[10], line 5\u001b[0m\n\u001b[1;32m      2\u001b[0m l[\u001b[38;5;241m-\u001b[39m\u001b[38;5;241m1\u001b[39m]\n\u001b[1;32m      4\u001b[0m l\u001b[38;5;241m=\u001b[39m[]\n\u001b[0;32m----> 5\u001b[0m \u001b[43ml\u001b[49m\u001b[43m[\u001b[49m\u001b[38;5;241;43m-\u001b[39;49m\u001b[38;5;241;43m1\u001b[39;49m\u001b[43m]\u001b[49m\n",
            "\u001b[0;31mIndexError\u001b[0m: list index out of range"
          ],
          "output_type": "error"
        }
      ]
    },
    {
      "cell_type": "code",
      "source": "l=[]\nprint(l.__sizeof__())\nl.append(1)\nprint(l.__sizeof__())\nl.append(2)\nprint(l.__sizeof__())\nl.append(3)\nprint(l.__sizeof__())\nl.append(4)\nprint(l.__sizeof__())\nl.append(5)\nprint(l.__sizeof__())\n",
      "metadata": {
        "trusted": true
      },
      "execution_count": 16,
      "outputs": [
        {
          "name": "stdout",
          "text": "20\n36\n36\n36\n36\n52\n",
          "output_type": "stream"
        }
      ]
    },
    {
      "cell_type": "code",
      "source": "# 字典不同方式初始化\nd ={'name':'jason', 'age':20, 'gender':'male'}\nd2 = dict({'name':'jason', 'age':20, 'gender':'male'})\nd3 = dict([('name', 'jason'), ('age', 20), ('gender', 'male')])\nd4 = dict(name='jason', age=20, gender='male') \nd == d2 == d3 == d4\n\n# 集合\ns1 = {1,2,3}\ns2 = set([1,2,3])\ns1==s2\n",
      "metadata": {
        "trusted": true
      },
      "execution_count": 20,
      "outputs": [
        {
          "execution_count": 20,
          "output_type": "execute_result",
          "data": {
            "text/plain": "True"
          },
          "metadata": {}
        }
      ]
    },
    {
      "cell_type": "code",
      "source": "# 存储的类型可以不同\ns = {1, 'hello', 500}",
      "metadata": {
        "trusted": true
      },
      "execution_count": 21,
      "outputs": []
    },
    {
      "cell_type": "code",
      "source": "# 字典的读取\nd ={'name':'jason', 'age':20, 'gender':'male'}\nd['name']\n\n# 不存在的key\nd['location']",
      "metadata": {
        "trusted": true
      },
      "execution_count": 23,
      "outputs": [
        {
          "ename": "<class 'KeyError'>",
          "evalue": "'location'",
          "traceback": [
            "\u001b[0;31m---------------------------------------------------------------------------\u001b[0m",
            "\u001b[0;31mKeyError\u001b[0m                                  Traceback (most recent call last)",
            "Cell \u001b[0;32mIn[23], line 6\u001b[0m\n\u001b[1;32m      3\u001b[0m d[\u001b[38;5;124m'\u001b[39m\u001b[38;5;124mname\u001b[39m\u001b[38;5;124m'\u001b[39m]\n\u001b[1;32m      5\u001b[0m \u001b[38;5;66;03m# 不存在的key\u001b[39;00m\n\u001b[0;32m----> 6\u001b[0m \u001b[43md\u001b[49m\u001b[43m[\u001b[49m\u001b[38;5;124;43m'\u001b[39;49m\u001b[38;5;124;43mlocation\u001b[39;49m\u001b[38;5;124;43m'\u001b[39;49m\u001b[43m]\u001b[49m\n",
            "\u001b[0;31mKeyError\u001b[0m: 'location'"
          ],
          "output_type": "error"
        }
      ]
    },
    {
      "cell_type": "code",
      "source": "# 字典读取的另一种方式\nd ={'name':'jason', 'age':20, 'gender':'male'}\nd.get('name')\n\nprint(d.get('location'))\n# 提供默认值\nd.get('location',\"shanghai\")",
      "metadata": {
        "trusted": true
      },
      "execution_count": 29,
      "outputs": [
        {
          "name": "stdout",
          "text": "None\n",
          "output_type": "stream"
        },
        {
          "execution_count": 29,
          "output_type": "execute_result",
          "data": {
            "text/plain": "'shanghai'"
          },
          "metadata": {}
        }
      ]
    },
    {
      "cell_type": "code",
      "source": "# 列表\nl = [1,2,3]\nprint(l[1])\n# 集合不支持索引操作, 集合本质是hash表\ns = {1,2,3}\ns[0]",
      "metadata": {
        "trusted": true
      },
      "execution_count": 32,
      "outputs": [
        {
          "name": "stdout",
          "text": "2\n",
          "output_type": "stream"
        },
        {
          "ename": "<class 'TypeError'>",
          "evalue": "'set' object is not subscriptable",
          "traceback": [
            "\u001b[0;31m---------------------------------------------------------------------------\u001b[0m",
            "\u001b[0;31mTypeError\u001b[0m                                 Traceback (most recent call last)",
            "Cell \u001b[0;32mIn[32], line 6\u001b[0m\n\u001b[1;32m      4\u001b[0m \u001b[38;5;66;03m# 集合不支持索引操作\u001b[39;00m\n\u001b[1;32m      5\u001b[0m s \u001b[38;5;241m=\u001b[39m {\u001b[38;5;241m1\u001b[39m,\u001b[38;5;241m2\u001b[39m,\u001b[38;5;241m3\u001b[39m}\n\u001b[0;32m----> 6\u001b[0m \u001b[43ms\u001b[49m\u001b[43m[\u001b[49m\u001b[38;5;241;43m0\u001b[39;49m\u001b[43m]\u001b[49m\n",
            "\u001b[0;31mTypeError\u001b[0m: 'set' object is not subscriptable"
          ],
          "output_type": "error"
        }
      ]
    },
    {
      "cell_type": "code",
      "source": "# 判断一个元素不在字典或者集合中\ns={1,2,3}\n1 in s\n\nd = {'name':'jason', 'age':20, 'gender':'male'}\n'name' in d",
      "metadata": {
        "trusted": true
      },
      "execution_count": 34,
      "outputs": [
        {
          "execution_count": 34,
          "output_type": "execute_result",
          "data": {
            "text/plain": "True"
          },
          "metadata": {}
        }
      ]
    },
    {
      "cell_type": "code",
      "source": "#字典增加元素\nd = {'name':'jason','age':20}\nd['gender'] = 'male'\nd['dob'] = '1999-02-01'\nd\n",
      "metadata": {
        "trusted": true
      },
      "execution_count": 35,
      "outputs": [
        {
          "execution_count": 35,
          "output_type": "execute_result",
          "data": {
            "text/plain": "{'name': 'jason', 'age': 20, 'gender': 'male', 'dob': '1999-02-01'}"
          },
          "metadata": {}
        }
      ]
    },
    {
      "cell_type": "code",
      "source": "#更新键'dob\nd['dob'] = '1998-01-01'\nd",
      "metadata": {
        "trusted": true
      },
      "execution_count": 36,
      "outputs": [
        {
          "execution_count": 36,
          "output_type": "execute_result",
          "data": {
            "text/plain": "{'name': 'jason', 'age': 20, 'gender': 'male', 'dob': '1998-01-01'}"
          },
          "metadata": {}
        }
      ]
    },
    {
      "cell_type": "code",
      "source": "#集合增加元素\ns = {1,2,3}\ns.add(4)\ns\n",
      "metadata": {
        "trusted": true
      },
      "execution_count": 38,
      "outputs": [
        {
          "execution_count": 38,
          "output_type": "execute_result",
          "data": {
            "text/plain": "{1, 2, 3, 4}"
          },
          "metadata": {}
        }
      ]
    },
    {
      "cell_type": "code",
      "source": "#集合删除元素\ns.remove(2)\ns",
      "metadata": {
        "trusted": true
      },
      "execution_count": 39,
      "outputs": [
        {
          "execution_count": 39,
          "output_type": "execute_result",
          "data": {
            "text/plain": "{1, 3, 4}"
          },
          "metadata": {}
        }
      ]
    },
    {
      "cell_type": "code",
      "source": "#集合的pop操作是删除集合中最后一个元素，可是集合本身是无序的，你无法知道会删除哪个元素\ns.pop()\ns",
      "metadata": {
        "trusted": true
      },
      "execution_count": 40,
      "outputs": [
        {
          "execution_count": 40,
          "output_type": "execute_result",
          "data": {
            "text/plain": "{3, 4}"
          },
          "metadata": {}
        }
      ]
    },
    {
      "cell_type": "code",
      "source": "s.pop()\ns",
      "metadata": {
        "trusted": true
      },
      "execution_count": 41,
      "outputs": [
        {
          "execution_count": 41,
          "output_type": "execute_result",
          "data": {
            "text/plain": "{4}"
          },
          "metadata": {}
        }
      ]
    },
    {
      "cell_type": "code",
      "source": "s.add('hello')\ns.pop()",
      "metadata": {
        "trusted": true
      },
      "execution_count": 42,
      "outputs": [
        {
          "execution_count": 42,
          "output_type": "execute_result",
          "data": {
            "text/plain": "4"
          },
          "metadata": {}
        }
      ]
    },
    {
      "cell_type": "code",
      "source": "#根据键或值，进行升序和降序排序\nd = {'b':1,'a':2,'c':10}\nd_sorted_by_key = sorted(d.items(), key=lambda x: x[0])\nprint(d_sorted_by_key) # 返回类型是什么？\nd_sorted_by_value = sorted(d.items(), key=lambda x: x[1])\nprint(d_sorted_by_value)\n",
      "metadata": {
        "trusted": true
      },
      "execution_count": 43,
      "outputs": [
        {
          "name": "stdout",
          "text": "[('a', 2), ('b', 1), ('c', 10)]\n[('b', 1), ('a', 2), ('c', 10)]\n",
          "output_type": "stream"
        }
      ]
    },
    {
      "cell_type": "code",
      "source": "s ={3,4,1,2}\nsorted(s) #返回类型是什么？",
      "metadata": {
        "trusted": true
      },
      "execution_count": 44,
      "outputs": [
        {
          "execution_count": 44,
          "output_type": "execute_result",
          "data": {
            "text/plain": "[1, 2, 3, 4]"
          },
          "metadata": {}
        }
      ]
    },
    {
      "cell_type": "code",
      "source": "#列表和字典的对比\n#下述实现的复杂度\ndef find_product_price(products, product_id):\n    for id, price in products:\n        if id == product_id:\n            return price\n    return None \n     \nproducts = [\n    (143121312, 100), \n    (432314553, 30),\n    (32421912367, 150) \n]\nprint('The price of product 432314553 is {}'.format(find_product_price(products, 432314553)))\n",
      "metadata": {
        "trusted": true
      },
      "execution_count": 45,
      "outputs": [
        {
          "name": "stdout",
          "text": "The price of product 432314553 is 30\n",
          "output_type": "stream"
        }
      ]
    },
    {
      "cell_type": "code",
      "source": "#下述实现的复杂度\nproducts = {\n  143121312: 100,\n  432314553: 30,\n  32421912367: 150\n}\nprint('The price of product 432314553 is {}'.format(products[432314553])) ",
      "metadata": {
        "trusted": true
      },
      "execution_count": 46,
      "outputs": [
        {
          "name": "stdout",
          "text": "The price of product 432314553 is 30\n",
          "output_type": "stream"
        }
      ]
    },
    {
      "cell_type": "code",
      "source": "#这个的复杂度是？\ndef find_unique_price_using_list(products):\n    unique_price_list = []\n    for _, price in products: # A\n        if price not in unique_price_list: #B\n            unique_price_list.append(price)\n    return len(unique_price_list)\nproducts = [\n    (143121312, 100), \n    (432314553, 30),\n    (32421912367, 150),\n    (937153201, 30)\n]\nprint('number of unique price is: {}'.format(find_unique_price_using_list(products)))\n",
      "metadata": {
        "trusted": true
      },
      "execution_count": 48,
      "outputs": [
        {
          "name": "stdout",
          "text": "number of unique price is: 3\n",
          "output_type": "stream"
        }
      ]
    },
    {
      "cell_type": "code",
      "source": "# 这个实现的复杂度呢？\ndef find_unique_price_using_set(products):\n    unique_price_set = set()\n    for _, price in products:\n        unique_price_set.add(price)\n    return len(unique_price_set)        \nproducts = [\n    (143121312, 100), \n    (432314553, 30),\n    (32421912367, 150),\n    (937153201, 30)\n]\nprint('number of unique price is: {}'.format(find_unique_price_using_set(products)))\n\n",
      "metadata": {
        "trusted": true
      },
      "execution_count": 49,
      "outputs": [
        {
          "name": "stdout",
          "text": "number of unique price is: 3\n",
          "output_type": "stream"
        }
      ]
    },
    {
      "cell_type": "code",
      "source": "import time\nid = [x for x in range(0, 100000)]\nprice = [x for x in range(200000, 300000)]\nproducts = list(zip(id, price))\n# 计算列表版本的时间\nstart_using_list = time.perf_counter()\nfind_unique_price_using_list(products)\nend_using_list = time.perf_counter()\nprint(\"time elapse using list: {}\".format(end_using_list - start_using_list))\n\n# 计算集合版本的时间\nstart_using_set = time.perf_counter()\nfind_unique_price_using_set(products)\nend_using_set = time.perf_counter()\nprint(\"time elapse using set: {}\".format(end_using_set - start_using_set))\n\n",
      "metadata": {
        "trusted": true
      },
      "execution_count": 51,
      "outputs": [
        {
          "name": "stdout",
          "text": "time elapse using list: 73.70999999999185\ntime elapse using set: 0.027000000001862645\n",
          "output_type": "stream"
        }
      ]
    },
    {
      "cell_type": "code",
      "source": "#字典和集合的工作原理\n# 字典和集合的内部结构就是一张哈希表\n# 对于字典而言，这张表存储了哈希值、键和值这3个元素，这样存储存在什么问题？\n# 对于集合，哈希表内没有键和值的配对，只有单一的元素\n# 字典的插入流程？",
      "metadata": {},
      "execution_count": null,
      "outputs": []
    }
  ]
}